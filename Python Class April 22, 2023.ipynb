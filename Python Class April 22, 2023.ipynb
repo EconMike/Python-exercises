{
 "cells": [
  {
   "cell_type": "code",
   "execution_count": 1,
   "id": "5cdd0311",
   "metadata": {},
   "outputs": [
    {
     "data": {
      "text/plain": [
       "2"
      ]
     },
     "execution_count": 1,
     "metadata": {},
     "output_type": "execute_result"
    }
   ],
   "source": [
    "print(\"Hello everyone\")"
   ]
  },
  {
   "cell_type": "code",
   "execution_count": null,
   "id": "8146c4d2",
   "metadata": {},
   "outputs": [],
   "source": [
    "#Basic syntax\n",
    "1+1\n",
    "\n",
    "df= 1+1\n",
    "df"
   ]
  },
  {
   "cell_type": "code",
   "execution_count": null,
   "id": "db159492",
   "metadata": {},
   "outputs": [],
   "source": [
    "c=3\n",
    "a=2\n",
    "c -= a \n",
    "\n",
    "x = 5\n"
   ]
  },
  {
   "cell_type": "code",
   "execution_count": null,
   "id": "a221ae93",
   "metadata": {},
   "outputs": [],
   "source": [
    "#check objects\n",
    "\n",
    "print(type(x))\n",
    "\n",
    "s = 'xyz’'\n",
    "\n",
    "print(type(s))\n",
    "\n",
    "type([]) \n",
    "\n",
    "type({}) \n",
    "\n",
    "type('') \n",
    "\n",
    "type(0) \n"
   ]
  },
  {
   "cell_type": "code",
   "execution_count": 5,
   "id": "95eb6cde",
   "metadata": {},
   "outputs": [
    {
     "data": {
      "text/plain": [
       "pandas.core.frame.DataFrame"
      ]
     },
     "execution_count": 5,
     "metadata": {},
     "output_type": "execute_result"
    }
   ],
   "source": [
    "#create data\n",
    "import pandas as pd\n",
    "df=pd.DataFrame({'names':['5','8','9','10'],'grades':[76,95,77,78,]})\n",
    "\n",
    "#Loading data\n",
    "\n",
    "#check data type\n",
    "type(df)"
   ]
  },
  {
   "cell_type": "code",
   "execution_count": 6,
   "id": "a4708baa",
   "metadata": {},
   "outputs": [],
   "source": [
    "import pandas as pd\n",
    "\n",
    "data=pd.read_csv('iris_data.txt', sep=\",\", header=None,names=('A', 'B', 'C','D','E'))\n",
    "\n"
   ]
  },
  {
   "cell_type": "code",
   "execution_count": 7,
   "id": "d6d9ec76",
   "metadata": {},
   "outputs": [],
   "source": [
    "#loading data in python (jupyter notebook)\n",
    "\n",
    "import pandas as pd\n",
    "df =pd.read_csv('PRAC_DATA.csv')"
   ]
  },
  {
   "cell_type": "code",
   "execution_count": 16,
   "id": "cc5cf1d1",
   "metadata": {},
   "outputs": [
    {
     "data": {
      "text/plain": [
       "['Sheet1', 'Sheet2', 'Sheet3']"
      ]
     },
     "execution_count": 16,
     "metadata": {},
     "output_type": "execute_result"
    }
   ],
   "source": [
    "# excel files using python\n",
    "\n",
    "import pandas as pd\n",
    "xl = pd.ExcelFile('PRAC_DATA2.xlsx')\n",
    "xl.sheet_names\n"
   ]
  },
  {
   "cell_type": "code",
   "execution_count": 17,
   "id": "a14d1d1e",
   "metadata": {},
   "outputs": [
    {
     "data": {
      "text/html": [
       "<div>\n",
       "<style scoped>\n",
       "    .dataframe tbody tr th:only-of-type {\n",
       "        vertical-align: middle;\n",
       "    }\n",
       "\n",
       "    .dataframe tbody tr th {\n",
       "        vertical-align: top;\n",
       "    }\n",
       "\n",
       "    .dataframe thead th {\n",
       "        text-align: right;\n",
       "    }\n",
       "</style>\n",
       "<table border=\"1\" class=\"dataframe\">\n",
       "  <thead>\n",
       "    <tr style=\"text-align: right;\">\n",
       "      <th></th>\n",
       "      <th>Fname</th>\n",
       "      <th>Lname</th>\n",
       "      <th>Gender</th>\n",
       "      <th>Grade</th>\n",
       "      <th>Hours of Study</th>\n",
       "    </tr>\n",
       "  </thead>\n",
       "  <tbody>\n",
       "    <tr>\n",
       "      <th>0</th>\n",
       "      <td>Mary</td>\n",
       "      <td>Ettienne</td>\n",
       "      <td>F</td>\n",
       "      <td>B</td>\n",
       "      <td>16</td>\n",
       "    </tr>\n",
       "    <tr>\n",
       "      <th>1</th>\n",
       "      <td>Charles</td>\n",
       "      <td>Looner</td>\n",
       "      <td>M</td>\n",
       "      <td>F</td>\n",
       "      <td>8</td>\n",
       "    </tr>\n",
       "    <tr>\n",
       "      <th>2</th>\n",
       "      <td>Betty</td>\n",
       "      <td>Franklin</td>\n",
       "      <td>F</td>\n",
       "      <td>A</td>\n",
       "      <td>24</td>\n",
       "    </tr>\n",
       "    <tr>\n",
       "      <th>3</th>\n",
       "      <td>Roger</td>\n",
       "      <td>Withers</td>\n",
       "      <td>M</td>\n",
       "      <td>C</td>\n",
       "      <td>5</td>\n",
       "    </tr>\n",
       "    <tr>\n",
       "      <th>4</th>\n",
       "      <td>John</td>\n",
       "      <td>Mulgrew</td>\n",
       "      <td>M</td>\n",
       "      <td>A</td>\n",
       "      <td>5</td>\n",
       "    </tr>\n",
       "  </tbody>\n",
       "</table>\n",
       "</div>"
      ],
      "text/plain": [
       "     Fname     Lname Gender Grade  Hours of Study\n",
       "0     Mary  Ettienne      F     B              16\n",
       "1  Charles    Looner      M     F               8\n",
       "2    Betty  Franklin      F     A              24\n",
       "3    Roger   Withers      M     C               5\n",
       "4     John   Mulgrew      M     A               5"
      ]
     },
     "execution_count": 17,
     "metadata": {},
     "output_type": "execute_result"
    }
   ],
   "source": [
    "df = xl.parse(\"Sheet1\")\n",
    "df.head()"
   ]
  },
  {
   "cell_type": "code",
   "execution_count": null,
   "id": "1738d014",
   "metadata": {},
   "outputs": [],
   "source": [
    "#Exporting data from python \n",
    "\n",
    "#Excel\n",
    "import pandas as pd\n",
    "import openpyxl\n",
    "\n",
    "df = pd.DataFrame([[11, 21, 31], [12, 22, 32], [31, 32, 33]],\n",
    "                  index=['one', 'two', 'three'], columns=['a', 'b', 'c'])\n",
    "\n",
    "print(df)\n",
    "\n",
    "df.to_excel('G:\\\\Statistics seminars DC\\\\Python Feb 21\\\\pandas_to_excel.xlsx', sheet_name='new_sheet_name')"
   ]
  },
  {
   "cell_type": "code",
   "execution_count": null,
   "id": "ea33a735",
   "metadata": {},
   "outputs": [],
   "source": [
    "#write to multiple worksheets\n",
    "df2 = df[['a', 'c']]\n",
    "\n",
    "with pd.ExcelWriter('G:\\\\Statistics seminars DC\\\\Python Feb 21\\\\pandas_to_excel.xlsx') as writer:\n",
    "    df.to_excel(writer, sheet_name='sheet1')\n",
    "    df2.to_excel(writer, sheet_name='sheet2')\n"
   ]
  },
  {
   "cell_type": "code",
   "execution_count": null,
   "id": "cc8d525a",
   "metadata": {},
   "outputs": [],
   "source": [
    "#write to preexsiting sheet\n",
    "#Note: Because it is processed using openpyxl, only .xlsx files are included.\n",
    "path = 'pandas_to_excel.xlsx'\n",
    "\n",
    "with pd.ExcelWriter(path) as writer:\n",
    "    writer.book = openpyxl.load_workbook(path)\n",
    "    df.to_excel(writer, sheet_name='new_sheet1')\n",
    "    df2.to_excel(writer, sheet_name='new_sheet2')"
   ]
  },
  {
   "cell_type": "code",
   "execution_count": null,
   "id": "33276138",
   "metadata": {},
   "outputs": [],
   "source": [
    "#export to csv file\n",
    "df.to_csv('F:\\data.csv' , sep=',') "
   ]
  },
  {
   "cell_type": "code",
   "execution_count": null,
   "id": "f85d3818",
   "metadata": {},
   "outputs": [],
   "source": [
    "#For loops\n",
    "\n",
    "fruits = [\"apple\", \"banana\", \"cherry\"]\n",
    "for x in fruits:\n",
    "  print(x)"
   ]
  },
  {
   "cell_type": "code",
   "execution_count": null,
   "id": "ecb19b2a",
   "metadata": {},
   "outputs": [],
   "source": [
    "fruits = [\"apple\", \"banana\", \"cherry\"]\n",
    "for x in fruits:\n",
    "  if x == \"banana\":\n",
    "    continue\n",
    "  print(x)"
   ]
  },
  {
   "cell_type": "code",
   "execution_count": null,
   "id": "648ff37a",
   "metadata": {},
   "outputs": [],
   "source": [
    "#Nested for loops\n",
    "\n",
    "adj = [\"red\", \"big\", \"tasty\"]\n",
    "fruits = [\"apple\", \"banana\", \"cherry\"]\n",
    "\n",
    "for x in adj:\n",
    "  for y in fruits:\n",
    "    print(x, y)\n",
    "    \n",
    "    "
   ]
  },
  {
   "cell_type": "code",
   "execution_count": null,
   "id": "9961650b",
   "metadata": {},
   "outputs": [],
   "source": [
    "#list of list\n",
    "ev_data = [['vehicle', 'range', 'price'],\n",
    "           ['Tesla Model 3 LR', '310', '49900'],\n",
    "           ['Hyundai Ioniq EV', '124', '30315'],\n",
    "           ['Chevy Bolt', '238', '36620']]\n",
    "\n",
    "for row in ev_data[1:]:         # loop through each row in ev_data starting with row 2 (index 1)\n",
    "    ev_range = row[1]           # each car's range is found in column 2 (index 1)\n",
    "    ev_range = int(ev_range)    # convert each range number from a string to an integer\n",
    "    row[1] = ev_range           # assign range, which is now an integer, back to index 1 in each row\n",
    "\n",
    "print(ev_data)\n",
    "print(ev_range)"
   ]
  },
  {
   "cell_type": "code",
   "execution_count": null,
   "id": "019f2da1",
   "metadata": {},
   "outputs": [],
   "source": [
    "#for loops using dataframes\n",
    "\n",
    "\n",
    "df = pd.DataFrame({'c1': [10, 11, 12], 'c2': [100, 110, 120]})\n",
    "df = df.reset_index()  # make sure indexes pair with number of rows\n",
    "\n",
    "for index, row in df.iterrows():\n",
    "    print(row['c1'], row['c2'])\n",
    "\n",
    "    \n",
    "    "
   ]
  },
  {
   "cell_type": "code",
   "execution_count": null,
   "id": "0ed3d46b",
   "metadata": {},
   "outputs": [],
   "source": [
    "#creating a user define function\n",
    "\n",
    "def my_function():\n",
    "  print(\"Hello from a function\")\n",
    "\n",
    "my_function()\n"
   ]
  },
  {
   "cell_type": "code",
   "execution_count": null,
   "id": "48b461c8",
   "metadata": {},
   "outputs": [],
   "source": []
  }
 ],
 "metadata": {
  "kernelspec": {
   "display_name": "Python 3 (ipykernel)",
   "language": "python",
   "name": "python3"
  },
  "language_info": {
   "codemirror_mode": {
    "name": "ipython",
    "version": 3
   },
   "file_extension": ".py",
   "mimetype": "text/x-python",
   "name": "python",
   "nbconvert_exporter": "python",
   "pygments_lexer": "ipython3",
   "version": "3.9.13"
  }
 },
 "nbformat": 4,
 "nbformat_minor": 5
}
